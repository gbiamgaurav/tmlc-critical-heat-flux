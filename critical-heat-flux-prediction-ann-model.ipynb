{
 "cells": [
  {
   "cell_type": "code",
   "execution_count": 1,
   "id": "7c9c2001",
   "metadata": {
    "_cell_guid": "b1076dfc-b9ad-4769-8c92-a6c4dae69d19",
    "_uuid": "8f2839f25d086af736a60e9eeb907d3b93b6e0e5",
    "execution": {
     "iopub.execute_input": "2023-10-12T06:51:59.555211Z",
     "iopub.status.busy": "2023-10-12T06:51:59.554016Z",
     "iopub.status.idle": "2023-10-12T06:51:59.961801Z",
     "shell.execute_reply": "2023-10-12T06:51:59.960773Z"
    },
    "papermill": {
     "duration": 0.420757,
     "end_time": "2023-10-12T06:51:59.964598",
     "exception": false,
     "start_time": "2023-10-12T06:51:59.543841",
     "status": "completed"
    },
    "tags": []
   },
   "outputs": [
    {
     "name": "stdout",
     "output_type": "stream",
     "text": [
      "/kaggle/input/critical-heat-flux-prediction/Data_CHF_Zhao_2020_ATE.csv\n"
     ]
    }
   ],
   "source": [
    "# This Python 3 environment comes with many helpful analytics libraries installed\n",
    "# It is defined by the kaggle/python Docker image: https://github.com/kaggle/docker-python\n",
    "# For example, here's several helpful packages to load\n",
    "\n",
    "import numpy as np # linear algebra\n",
    "import pandas as pd # data processing, CSV file I/O (e.g. pd.read_csv)\n",
    "\n",
    "# Input data files are available in the read-only \"../input/\" directory\n",
    "# For example, running this (by clicking run or pressing Shift+Enter) will list all files under the input directory\n",
    "\n",
    "import os\n",
    "for dirname, _, filenames in os.walk('/kaggle/input'):\n",
    "    for filename in filenames:\n",
    "        print(os.path.join(dirname, filename))\n",
    "\n",
    "# You can write up to 20GB to the current directory (/kaggle/working/) that gets preserved as output when you create a version using \"Save & Run All\" \n",
    "# You can also write temporary files to /kaggle/temp/, but they won't be saved outside of the current session"
   ]
  },
  {
   "cell_type": "markdown",
   "id": "2492412b",
   "metadata": {
    "papermill": {
     "duration": 0.005974,
     "end_time": "2023-10-12T06:51:59.977299",
     "exception": false,
     "start_time": "2023-10-12T06:51:59.971325",
     "status": "completed"
    },
    "tags": []
   },
   "source": [
    "## Importing Libraries"
   ]
  },
  {
   "cell_type": "code",
   "execution_count": 2,
   "id": "de31ac6f",
   "metadata": {
    "execution": {
     "iopub.execute_input": "2023-10-12T06:51:59.991930Z",
     "iopub.status.busy": "2023-10-12T06:51:59.991254Z",
     "iopub.status.idle": "2023-10-12T06:52:01.487803Z",
     "shell.execute_reply": "2023-10-12T06:52:01.486562Z"
    },
    "papermill": {
     "duration": 1.50717,
     "end_time": "2023-10-12T06:52:01.490749",
     "exception": false,
     "start_time": "2023-10-12T06:51:59.983579",
     "status": "completed"
    },
    "tags": []
   },
   "outputs": [],
   "source": [
    "import joblib\n",
    "import numpy as np\n",
    "from sklearn.compose import ColumnTransformer\n",
    "from sklearn.neural_network import MLPRegressor\n",
    "from sklearn.model_selection import train_test_split\n",
    "from sklearn.metrics import mean_squared_error, r2_score\n",
    "from sklearn.preprocessing import StandardScaler, OneHotEncoder\n",
    "from sklearn.pipeline import Pipeline"
   ]
  },
  {
   "cell_type": "code",
   "execution_count": 3,
   "id": "9b0a7ae8",
   "metadata": {
    "execution": {
     "iopub.execute_input": "2023-10-12T06:52:01.506534Z",
     "iopub.status.busy": "2023-10-12T06:52:01.506172Z",
     "iopub.status.idle": "2023-10-12T06:52:01.540772Z",
     "shell.execute_reply": "2023-10-12T06:52:01.539619Z"
    },
    "papermill": {
     "duration": 0.045949,
     "end_time": "2023-10-12T06:52:01.543603",
     "exception": false,
     "start_time": "2023-10-12T06:52:01.497654",
     "status": "completed"
    },
    "tags": []
   },
   "outputs": [
    {
     "data": {
      "text/plain": [
       "(1865, 10)"
      ]
     },
     "execution_count": 3,
     "metadata": {},
     "output_type": "execute_result"
    }
   ],
   "source": [
    "df = pd.read_csv(\"/kaggle/input/critical-heat-flux-prediction/Data_CHF_Zhao_2020_ATE.csv\")\n",
    "\n",
    "df.shape"
   ]
  },
  {
   "cell_type": "code",
   "execution_count": 4,
   "id": "f70bb92a",
   "metadata": {
    "execution": {
     "iopub.execute_input": "2023-10-12T06:52:01.558845Z",
     "iopub.status.busy": "2023-10-12T06:52:01.557544Z",
     "iopub.status.idle": "2023-10-12T06:52:01.584894Z",
     "shell.execute_reply": "2023-10-12T06:52:01.583604Z"
    },
    "papermill": {
     "duration": 0.037084,
     "end_time": "2023-10-12T06:52:01.587202",
     "exception": false,
     "start_time": "2023-10-12T06:52:01.550118",
     "status": "completed"
    },
    "tags": []
   },
   "outputs": [
    {
     "data": {
      "text/html": [
       "<div>\n",
       "<style scoped>\n",
       "    .dataframe tbody tr th:only-of-type {\n",
       "        vertical-align: middle;\n",
       "    }\n",
       "\n",
       "    .dataframe tbody tr th {\n",
       "        vertical-align: top;\n",
       "    }\n",
       "\n",
       "    .dataframe thead th {\n",
       "        text-align: right;\n",
       "    }\n",
       "</style>\n",
       "<table border=\"1\" class=\"dataframe\">\n",
       "  <thead>\n",
       "    <tr style=\"text-align: right;\">\n",
       "      <th></th>\n",
       "      <th>id</th>\n",
       "      <th>author</th>\n",
       "      <th>geometry</th>\n",
       "      <th>pressure [MPa]</th>\n",
       "      <th>mass_flux [kg/m2-s]</th>\n",
       "      <th>x_e_out [-]</th>\n",
       "      <th>D_e [mm]</th>\n",
       "      <th>D_h [mm]</th>\n",
       "      <th>length [mm]</th>\n",
       "      <th>chf_exp [MW/m2]</th>\n",
       "    </tr>\n",
       "  </thead>\n",
       "  <tbody>\n",
       "    <tr>\n",
       "      <th>0</th>\n",
       "      <td>1</td>\n",
       "      <td>Inasaka</td>\n",
       "      <td>tube</td>\n",
       "      <td>0.39</td>\n",
       "      <td>5600</td>\n",
       "      <td>-0.1041</td>\n",
       "      <td>3.0</td>\n",
       "      <td>3.0</td>\n",
       "      <td>100</td>\n",
       "      <td>11.3</td>\n",
       "    </tr>\n",
       "    <tr>\n",
       "      <th>1</th>\n",
       "      <td>2</td>\n",
       "      <td>Inasaka</td>\n",
       "      <td>tube</td>\n",
       "      <td>0.31</td>\n",
       "      <td>6700</td>\n",
       "      <td>-0.0596</td>\n",
       "      <td>3.0</td>\n",
       "      <td>3.0</td>\n",
       "      <td>100</td>\n",
       "      <td>10.6</td>\n",
       "    </tr>\n",
       "    <tr>\n",
       "      <th>2</th>\n",
       "      <td>3</td>\n",
       "      <td>Inasaka</td>\n",
       "      <td>tube</td>\n",
       "      <td>0.33</td>\n",
       "      <td>4300</td>\n",
       "      <td>-0.0395</td>\n",
       "      <td>3.0</td>\n",
       "      <td>3.0</td>\n",
       "      <td>100</td>\n",
       "      <td>7.3</td>\n",
       "    </tr>\n",
       "  </tbody>\n",
       "</table>\n",
       "</div>"
      ],
      "text/plain": [
       "   id   author geometry  pressure [MPa]  mass_flux [kg/m2-s]  x_e_out [-]  \\\n",
       "0   1  Inasaka     tube            0.39                 5600      -0.1041   \n",
       "1   2  Inasaka     tube            0.31                 6700      -0.0596   \n",
       "2   3  Inasaka     tube            0.33                 4300      -0.0395   \n",
       "\n",
       "   D_e [mm]  D_h [mm]  length [mm]  chf_exp [MW/m2]  \n",
       "0       3.0       3.0          100             11.3  \n",
       "1       3.0       3.0          100             10.6  \n",
       "2       3.0       3.0          100              7.3  "
      ]
     },
     "execution_count": 4,
     "metadata": {},
     "output_type": "execute_result"
    }
   ],
   "source": [
    "df.head(3)"
   ]
  },
  {
   "cell_type": "code",
   "execution_count": 5,
   "id": "f7452ba5",
   "metadata": {
    "execution": {
     "iopub.execute_input": "2023-10-12T06:52:01.603154Z",
     "iopub.status.busy": "2023-10-12T06:52:01.601308Z",
     "iopub.status.idle": "2023-10-12T06:52:01.631707Z",
     "shell.execute_reply": "2023-10-12T06:52:01.630525Z"
    },
    "papermill": {
     "duration": 0.040567,
     "end_time": "2023-10-12T06:52:01.634294",
     "exception": false,
     "start_time": "2023-10-12T06:52:01.593727",
     "status": "completed"
    },
    "tags": []
   },
   "outputs": [
    {
     "name": "stdout",
     "output_type": "stream",
     "text": [
      "<class 'pandas.core.frame.DataFrame'>\n",
      "RangeIndex: 1865 entries, 0 to 1864\n",
      "Data columns (total 10 columns):\n",
      " #   Column               Non-Null Count  Dtype  \n",
      "---  ------               --------------  -----  \n",
      " 0   id                   1865 non-null   int64  \n",
      " 1   author               1865 non-null   object \n",
      " 2   geometry             1865 non-null   object \n",
      " 3   pressure [MPa]       1865 non-null   float64\n",
      " 4   mass_flux [kg/m2-s]  1865 non-null   int64  \n",
      " 5   x_e_out [-]          1865 non-null   float64\n",
      " 6   D_e [mm]             1865 non-null   float64\n",
      " 7   D_h [mm]             1865 non-null   float64\n",
      " 8   length [mm]          1865 non-null   int64  \n",
      " 9   chf_exp [MW/m2]      1865 non-null   float64\n",
      "dtypes: float64(5), int64(3), object(2)\n",
      "memory usage: 145.8+ KB\n"
     ]
    }
   ],
   "source": [
    "df.info()"
   ]
  },
  {
   "cell_type": "markdown",
   "id": "4cbdba08",
   "metadata": {
    "papermill": {
     "duration": 0.006239,
     "end_time": "2023-10-12T06:52:01.647101",
     "exception": false,
     "start_time": "2023-10-12T06:52:01.640862",
     "status": "completed"
    },
    "tags": []
   },
   "source": [
    "## Checking missing values"
   ]
  },
  {
   "cell_type": "code",
   "execution_count": 6,
   "id": "132dd1f2",
   "metadata": {
    "execution": {
     "iopub.execute_input": "2023-10-12T06:52:01.662200Z",
     "iopub.status.busy": "2023-10-12T06:52:01.661251Z",
     "iopub.status.idle": "2023-10-12T06:52:01.670500Z",
     "shell.execute_reply": "2023-10-12T06:52:01.669360Z"
    },
    "papermill": {
     "duration": 0.019104,
     "end_time": "2023-10-12T06:52:01.672681",
     "exception": false,
     "start_time": "2023-10-12T06:52:01.653577",
     "status": "completed"
    },
    "tags": []
   },
   "outputs": [
    {
     "data": {
      "text/plain": [
       "id                     0\n",
       "author                 0\n",
       "geometry               0\n",
       "pressure [MPa]         0\n",
       "mass_flux [kg/m2-s]    0\n",
       "x_e_out [-]            0\n",
       "D_e [mm]               0\n",
       "D_h [mm]               0\n",
       "length [mm]            0\n",
       "chf_exp [MW/m2]        0\n",
       "dtype: int64"
      ]
     },
     "execution_count": 6,
     "metadata": {},
     "output_type": "execute_result"
    }
   ],
   "source": [
    "df.isnull().sum()"
   ]
  },
  {
   "cell_type": "markdown",
   "id": "3f9fc732",
   "metadata": {
    "papermill": {
     "duration": 0.006421,
     "end_time": "2023-10-12T06:52:01.685688",
     "exception": false,
     "start_time": "2023-10-12T06:52:01.679267",
     "status": "completed"
    },
    "tags": []
   },
   "source": [
    "## Preprocessing"
   ]
  },
  {
   "cell_type": "code",
   "execution_count": 7,
   "id": "44fcb136",
   "metadata": {
    "execution": {
     "iopub.execute_input": "2023-10-12T06:52:01.701171Z",
     "iopub.status.busy": "2023-10-12T06:52:01.700382Z",
     "iopub.status.idle": "2023-10-12T06:52:01.706546Z",
     "shell.execute_reply": "2023-10-12T06:52:01.705677Z"
    },
    "papermill": {
     "duration": 0.016381,
     "end_time": "2023-10-12T06:52:01.708613",
     "exception": false,
     "start_time": "2023-10-12T06:52:01.692232",
     "status": "completed"
    },
    "tags": []
   },
   "outputs": [],
   "source": [
    "def preprocess_inputs(df):\n",
    "    # Drop \"id\" and \"author\" columns\n",
    "    df = df.drop(columns=[\"id\", \"author\"], axis=1)\n",
    "    \n",
    "    # Remove duplicate records\n",
    "    df = df.drop_duplicates()\n",
    "    \n",
    "    # Rename columns\n",
    "    df = df.rename(columns={\n",
    "        'pressure [MPa]': 'pressure_mp',\n",
    "        'mass_flux [kg/m2-s]': 'mass_flux',\n",
    "        'x_e_out [-]': 'xe_out',\n",
    "        'D_e [mm]': 'de_mm',\n",
    "        'D_h [mm]': 'dh_mm',\n",
    "        'length [mm]': 'length',\n",
    "        'chf_exp [MW/m2]': 'chf_exp'\n",
    "    })\n",
    "    \n",
    "    # Split the dataset into X and y\n",
    "    X = df.drop([\"xe_out\"], axis=1)\n",
    "    y = df[\"xe_out\"]\n",
    "    \n",
    "    return X, y"
   ]
  },
  {
   "cell_type": "code",
   "execution_count": 8,
   "id": "cca94bfa",
   "metadata": {
    "execution": {
     "iopub.execute_input": "2023-10-12T06:52:01.724325Z",
     "iopub.status.busy": "2023-10-12T06:52:01.723518Z",
     "iopub.status.idle": "2023-10-12T06:52:01.740485Z",
     "shell.execute_reply": "2023-10-12T06:52:01.739380Z"
    },
    "papermill": {
     "duration": 0.02762,
     "end_time": "2023-10-12T06:52:01.742921",
     "exception": false,
     "start_time": "2023-10-12T06:52:01.715301",
     "status": "completed"
    },
    "tags": []
   },
   "outputs": [],
   "source": [
    "X, y = preprocess_inputs(df)"
   ]
  },
  {
   "cell_type": "code",
   "execution_count": 9,
   "id": "85ae3d72",
   "metadata": {
    "execution": {
     "iopub.execute_input": "2023-10-12T06:52:01.758867Z",
     "iopub.status.busy": "2023-10-12T06:52:01.757689Z",
     "iopub.status.idle": "2023-10-12T06:52:01.778413Z",
     "shell.execute_reply": "2023-10-12T06:52:01.777129Z"
    },
    "papermill": {
     "duration": 0.031297,
     "end_time": "2023-10-12T06:52:01.780752",
     "exception": false,
     "start_time": "2023-10-12T06:52:01.749455",
     "status": "completed"
    },
    "tags": []
   },
   "outputs": [
    {
     "data": {
      "text/html": [
       "<div>\n",
       "<style scoped>\n",
       "    .dataframe tbody tr th:only-of-type {\n",
       "        vertical-align: middle;\n",
       "    }\n",
       "\n",
       "    .dataframe tbody tr th {\n",
       "        vertical-align: top;\n",
       "    }\n",
       "\n",
       "    .dataframe thead th {\n",
       "        text-align: right;\n",
       "    }\n",
       "</style>\n",
       "<table border=\"1\" class=\"dataframe\">\n",
       "  <thead>\n",
       "    <tr style=\"text-align: right;\">\n",
       "      <th></th>\n",
       "      <th>geometry</th>\n",
       "      <th>pressure_mp</th>\n",
       "      <th>mass_flux</th>\n",
       "      <th>de_mm</th>\n",
       "      <th>dh_mm</th>\n",
       "      <th>length</th>\n",
       "      <th>chf_exp</th>\n",
       "    </tr>\n",
       "  </thead>\n",
       "  <tbody>\n",
       "    <tr>\n",
       "      <th>0</th>\n",
       "      <td>tube</td>\n",
       "      <td>0.39</td>\n",
       "      <td>5600</td>\n",
       "      <td>3.0</td>\n",
       "      <td>3.0</td>\n",
       "      <td>100</td>\n",
       "      <td>11.3</td>\n",
       "    </tr>\n",
       "    <tr>\n",
       "      <th>1</th>\n",
       "      <td>tube</td>\n",
       "      <td>0.31</td>\n",
       "      <td>6700</td>\n",
       "      <td>3.0</td>\n",
       "      <td>3.0</td>\n",
       "      <td>100</td>\n",
       "      <td>10.6</td>\n",
       "    </tr>\n",
       "    <tr>\n",
       "      <th>2</th>\n",
       "      <td>tube</td>\n",
       "      <td>0.33</td>\n",
       "      <td>4300</td>\n",
       "      <td>3.0</td>\n",
       "      <td>3.0</td>\n",
       "      <td>100</td>\n",
       "      <td>7.3</td>\n",
       "    </tr>\n",
       "    <tr>\n",
       "      <th>3</th>\n",
       "      <td>tube</td>\n",
       "      <td>0.62</td>\n",
       "      <td>6400</td>\n",
       "      <td>3.0</td>\n",
       "      <td>3.0</td>\n",
       "      <td>100</td>\n",
       "      <td>12.8</td>\n",
       "    </tr>\n",
       "    <tr>\n",
       "      <th>4</th>\n",
       "      <td>tube</td>\n",
       "      <td>0.64</td>\n",
       "      <td>4700</td>\n",
       "      <td>3.0</td>\n",
       "      <td>3.0</td>\n",
       "      <td>100</td>\n",
       "      <td>11.0</td>\n",
       "    </tr>\n",
       "    <tr>\n",
       "      <th>...</th>\n",
       "      <td>...</td>\n",
       "      <td>...</td>\n",
       "      <td>...</td>\n",
       "      <td>...</td>\n",
       "      <td>...</td>\n",
       "      <td>...</td>\n",
       "      <td>...</td>\n",
       "    </tr>\n",
       "    <tr>\n",
       "      <th>1860</th>\n",
       "      <td>plate</td>\n",
       "      <td>1.01</td>\n",
       "      <td>1500</td>\n",
       "      <td>15.0</td>\n",
       "      <td>120.0</td>\n",
       "      <td>10</td>\n",
       "      <td>9.4</td>\n",
       "    </tr>\n",
       "    <tr>\n",
       "      <th>1861</th>\n",
       "      <td>plate</td>\n",
       "      <td>1.01</td>\n",
       "      <td>1500</td>\n",
       "      <td>15.0</td>\n",
       "      <td>120.0</td>\n",
       "      <td>10</td>\n",
       "      <td>10.4</td>\n",
       "    </tr>\n",
       "    <tr>\n",
       "      <th>1862</th>\n",
       "      <td>plate</td>\n",
       "      <td>1.01</td>\n",
       "      <td>2000</td>\n",
       "      <td>15.0</td>\n",
       "      <td>120.0</td>\n",
       "      <td>10</td>\n",
       "      <td>10.8</td>\n",
       "    </tr>\n",
       "    <tr>\n",
       "      <th>1863</th>\n",
       "      <td>plate</td>\n",
       "      <td>1.01</td>\n",
       "      <td>2000</td>\n",
       "      <td>15.0</td>\n",
       "      <td>120.0</td>\n",
       "      <td>10</td>\n",
       "      <td>10.9</td>\n",
       "    </tr>\n",
       "    <tr>\n",
       "      <th>1864</th>\n",
       "      <td>plate</td>\n",
       "      <td>1.01</td>\n",
       "      <td>2000</td>\n",
       "      <td>15.0</td>\n",
       "      <td>120.0</td>\n",
       "      <td>10</td>\n",
       "      <td>11.5</td>\n",
       "    </tr>\n",
       "  </tbody>\n",
       "</table>\n",
       "<p>1723 rows × 7 columns</p>\n",
       "</div>"
      ],
      "text/plain": [
       "     geometry  pressure_mp  mass_flux  de_mm  dh_mm  length  chf_exp\n",
       "0        tube         0.39       5600    3.0    3.0     100     11.3\n",
       "1        tube         0.31       6700    3.0    3.0     100     10.6\n",
       "2        tube         0.33       4300    3.0    3.0     100      7.3\n",
       "3        tube         0.62       6400    3.0    3.0     100     12.8\n",
       "4        tube         0.64       4700    3.0    3.0     100     11.0\n",
       "...       ...          ...        ...    ...    ...     ...      ...\n",
       "1860    plate         1.01       1500   15.0  120.0      10      9.4\n",
       "1861    plate         1.01       1500   15.0  120.0      10     10.4\n",
       "1862    plate         1.01       2000   15.0  120.0      10     10.8\n",
       "1863    plate         1.01       2000   15.0  120.0      10     10.9\n",
       "1864    plate         1.01       2000   15.0  120.0      10     11.5\n",
       "\n",
       "[1723 rows x 7 columns]"
      ]
     },
     "execution_count": 9,
     "metadata": {},
     "output_type": "execute_result"
    }
   ],
   "source": [
    "X"
   ]
  },
  {
   "cell_type": "code",
   "execution_count": 10,
   "id": "84ed33b8",
   "metadata": {
    "execution": {
     "iopub.execute_input": "2023-10-12T06:52:01.796499Z",
     "iopub.status.busy": "2023-10-12T06:52:01.796124Z",
     "iopub.status.idle": "2023-10-12T06:52:01.804898Z",
     "shell.execute_reply": "2023-10-12T06:52:01.803677Z"
    },
    "papermill": {
     "duration": 0.019117,
     "end_time": "2023-10-12T06:52:01.806857",
     "exception": false,
     "start_time": "2023-10-12T06:52:01.787740",
     "status": "completed"
    },
    "tags": []
   },
   "outputs": [
    {
     "data": {
      "text/plain": [
       "0      -0.1041\n",
       "1      -0.0596\n",
       "2      -0.0395\n",
       "3      -0.1460\n",
       "4      -0.0849\n",
       "         ...  \n",
       "1860   -0.0218\n",
       "1861   -0.0434\n",
       "1862   -0.0109\n",
       "1863   -0.0218\n",
       "1864   -0.0434\n",
       "Name: xe_out, Length: 1723, dtype: float64"
      ]
     },
     "execution_count": 10,
     "metadata": {},
     "output_type": "execute_result"
    }
   ],
   "source": [
    "y"
   ]
  },
  {
   "cell_type": "code",
   "execution_count": 11,
   "id": "f8d47698",
   "metadata": {
    "execution": {
     "iopub.execute_input": "2023-10-12T06:52:01.823595Z",
     "iopub.status.busy": "2023-10-12T06:52:01.822427Z",
     "iopub.status.idle": "2023-10-12T06:52:01.830888Z",
     "shell.execute_reply": "2023-10-12T06:52:01.829449Z"
    },
    "papermill": {
     "duration": 0.019455,
     "end_time": "2023-10-12T06:52:01.833377",
     "exception": false,
     "start_time": "2023-10-12T06:52:01.813922",
     "status": "completed"
    },
    "tags": []
   },
   "outputs": [
    {
     "data": {
      "text/plain": [
       "array(['tube', 'annulus', 'plate'], dtype=object)"
      ]
     },
     "execution_count": 11,
     "metadata": {},
     "output_type": "execute_result"
    }
   ],
   "source": [
    "X[\"geometry\"].unique()"
   ]
  },
  {
   "cell_type": "code",
   "execution_count": 12,
   "id": "a16f62c0",
   "metadata": {
    "execution": {
     "iopub.execute_input": "2023-10-12T06:52:01.851311Z",
     "iopub.status.busy": "2023-10-12T06:52:01.850017Z",
     "iopub.status.idle": "2023-10-12T06:52:01.855372Z",
     "shell.execute_reply": "2023-10-12T06:52:01.854580Z"
    },
    "papermill": {
     "duration": 0.016557,
     "end_time": "2023-10-12T06:52:01.857493",
     "exception": false,
     "start_time": "2023-10-12T06:52:01.840936",
     "status": "completed"
    },
    "tags": []
   },
   "outputs": [],
   "source": [
    "# categorical columns and numeric columns\n",
    "\n",
    "categorical_columns = ['geometry']  \n",
    "\n",
    "numeric_columns = [col for col in X.columns if col not in categorical_columns]"
   ]
  },
  {
   "cell_type": "code",
   "execution_count": 13,
   "id": "ccc9e3f3",
   "metadata": {
    "execution": {
     "iopub.execute_input": "2023-10-12T06:52:01.875614Z",
     "iopub.status.busy": "2023-10-12T06:52:01.874410Z",
     "iopub.status.idle": "2023-10-12T06:52:02.353234Z",
     "shell.execute_reply": "2023-10-12T06:52:02.351914Z"
    },
    "papermill": {
     "duration": 0.493346,
     "end_time": "2023-10-12T06:52:02.358786",
     "exception": false,
     "start_time": "2023-10-12T06:52:01.865440",
     "status": "completed"
    },
    "tags": []
   },
   "outputs": [
    {
     "name": "stdout",
     "output_type": "stream",
     "text": [
      "Root Mean Squared Error: 0.05708346925798732\n",
      "R-squared (R2) Score: 0.7918358743395824\n"
     ]
    },
    {
     "data": {
      "text/plain": [
       "['ann_model.pkl']"
      ]
     },
     "execution_count": 13,
     "metadata": {},
     "output_type": "execute_result"
    }
   ],
   "source": [
    "# Split the data into training and testing sets\n",
    "X_train, X_test, y_train, y_test = train_test_split(X, y, test_size=0.2, random_state=42)\n",
    "\n",
    "# Define transformers for numeric and categorical features\n",
    "numeric_transformer = Pipeline(steps=[\n",
    "    ('scaler', StandardScaler())  \n",
    "])\n",
    "\n",
    "categorical_transformer = Pipeline(steps=[\n",
    "    ('onehot', OneHotEncoder())  \n",
    "])\n",
    "\n",
    "# Create a column transformer\n",
    "preprocessor = ColumnTransformer(\n",
    "    transformers=[\n",
    "        ('num', numeric_transformer, numeric_columns),\n",
    "        ('cat', categorical_transformer, categorical_columns)\n",
    "    ])\n",
    "\n",
    "# Create an ANN model\n",
    "ann_model = MLPRegressor(hidden_layer_sizes=(100, 50), max_iter=500, random_state=42)\n",
    "\n",
    "# Create a pipeline that combines data preprocessing and the model\n",
    "pipeline = Pipeline(steps=[\n",
    "    ('preprocessor', preprocessor),\n",
    "    ('model', ann_model)\n",
    "])\n",
    "\n",
    "# Fit the pipeline on the training data\n",
    "pipeline.fit(X_train, y_train)\n",
    "\n",
    "# Predict on the test data\n",
    "y_pred = pipeline.predict(X_test)\n",
    "\n",
    "# Calculate the Root Mean Squared Error (RMSE) and R-squared (R2) score to evaluate the model\n",
    "rmse = np.sqrt(mean_squared_error(y_test, y_pred))\n",
    "r2 = r2_score(y_test, y_pred)\n",
    "\n",
    "print(f\"Root Mean Squared Error: {rmse}\")\n",
    "print(f\"R-squared (R2) Score: {r2}\")\n",
    "\n",
    "# Save the trained model\n",
    "joblib.dump(pipeline, 'ann_model.pkl')"
   ]
  },
  {
   "cell_type": "code",
   "execution_count": null,
   "id": "95791758",
   "metadata": {
    "papermill": {
     "duration": 0.021306,
     "end_time": "2023-10-12T06:52:02.401835",
     "exception": false,
     "start_time": "2023-10-12T06:52:02.380529",
     "status": "completed"
    },
    "tags": []
   },
   "outputs": [],
   "source": []
  },
  {
   "cell_type": "code",
   "execution_count": null,
   "id": "99e16b8e",
   "metadata": {
    "papermill": {
     "duration": 0.0209,
     "end_time": "2023-10-12T06:52:02.444622",
     "exception": false,
     "start_time": "2023-10-12T06:52:02.423722",
     "status": "completed"
    },
    "tags": []
   },
   "outputs": [],
   "source": []
  },
  {
   "cell_type": "code",
   "execution_count": null,
   "id": "076b28c1",
   "metadata": {
    "papermill": {
     "duration": 0.007576,
     "end_time": "2023-10-12T06:52:02.463631",
     "exception": false,
     "start_time": "2023-10-12T06:52:02.456055",
     "status": "completed"
    },
    "tags": []
   },
   "outputs": [],
   "source": []
  },
  {
   "cell_type": "code",
   "execution_count": null,
   "id": "f74bf217",
   "metadata": {
    "papermill": {
     "duration": 0.007109,
     "end_time": "2023-10-12T06:52:02.478303",
     "exception": false,
     "start_time": "2023-10-12T06:52:02.471194",
     "status": "completed"
    },
    "tags": []
   },
   "outputs": [],
   "source": []
  },
  {
   "cell_type": "code",
   "execution_count": null,
   "id": "6cc73159",
   "metadata": {
    "papermill": {
     "duration": 0.006966,
     "end_time": "2023-10-12T06:52:02.492678",
     "exception": false,
     "start_time": "2023-10-12T06:52:02.485712",
     "status": "completed"
    },
    "tags": []
   },
   "outputs": [],
   "source": []
  },
  {
   "cell_type": "code",
   "execution_count": null,
   "id": "483c28a0",
   "metadata": {
    "papermill": {
     "duration": 0.007056,
     "end_time": "2023-10-12T06:52:02.507136",
     "exception": false,
     "start_time": "2023-10-12T06:52:02.500080",
     "status": "completed"
    },
    "tags": []
   },
   "outputs": [],
   "source": []
  },
  {
   "cell_type": "code",
   "execution_count": null,
   "id": "bb5889a1",
   "metadata": {
    "papermill": {
     "duration": 0.007141,
     "end_time": "2023-10-12T06:52:02.522346",
     "exception": false,
     "start_time": "2023-10-12T06:52:02.515205",
     "status": "completed"
    },
    "tags": []
   },
   "outputs": [],
   "source": []
  },
  {
   "cell_type": "code",
   "execution_count": null,
   "id": "38c3985b",
   "metadata": {
    "papermill": {
     "duration": 0.007031,
     "end_time": "2023-10-12T06:52:02.536933",
     "exception": false,
     "start_time": "2023-10-12T06:52:02.529902",
     "status": "completed"
    },
    "tags": []
   },
   "outputs": [],
   "source": []
  },
  {
   "cell_type": "code",
   "execution_count": null,
   "id": "75aab5cd",
   "metadata": {
    "papermill": {
     "duration": 0.007037,
     "end_time": "2023-10-12T06:52:02.551547",
     "exception": false,
     "start_time": "2023-10-12T06:52:02.544510",
     "status": "completed"
    },
    "tags": []
   },
   "outputs": [],
   "source": []
  },
  {
   "cell_type": "code",
   "execution_count": null,
   "id": "03d779de",
   "metadata": {
    "papermill": {
     "duration": 0.007076,
     "end_time": "2023-10-12T06:52:02.566010",
     "exception": false,
     "start_time": "2023-10-12T06:52:02.558934",
     "status": "completed"
    },
    "tags": []
   },
   "outputs": [],
   "source": []
  },
  {
   "cell_type": "code",
   "execution_count": null,
   "id": "f1217535",
   "metadata": {
    "papermill": {
     "duration": 0.007195,
     "end_time": "2023-10-12T06:52:02.580621",
     "exception": false,
     "start_time": "2023-10-12T06:52:02.573426",
     "status": "completed"
    },
    "tags": []
   },
   "outputs": [],
   "source": []
  },
  {
   "cell_type": "code",
   "execution_count": null,
   "id": "e9edcfc8",
   "metadata": {
    "papermill": {
     "duration": 0.007896,
     "end_time": "2023-10-12T06:52:02.689575",
     "exception": false,
     "start_time": "2023-10-12T06:52:02.681679",
     "status": "completed"
    },
    "tags": []
   },
   "outputs": [],
   "source": []
  },
  {
   "cell_type": "code",
   "execution_count": null,
   "id": "3ab192c5",
   "metadata": {
    "papermill": {
     "duration": 0.007425,
     "end_time": "2023-10-12T06:52:02.704790",
     "exception": false,
     "start_time": "2023-10-12T06:52:02.697365",
     "status": "completed"
    },
    "tags": []
   },
   "outputs": [],
   "source": []
  },
  {
   "cell_type": "code",
   "execution_count": null,
   "id": "f61cc3f5",
   "metadata": {
    "papermill": {
     "duration": 0.007527,
     "end_time": "2023-10-12T06:52:02.720220",
     "exception": false,
     "start_time": "2023-10-12T06:52:02.712693",
     "status": "completed"
    },
    "tags": []
   },
   "outputs": [],
   "source": []
  },
  {
   "cell_type": "code",
   "execution_count": null,
   "id": "dee46ebf",
   "metadata": {
    "papermill": {
     "duration": 0.007431,
     "end_time": "2023-10-12T06:52:02.735343",
     "exception": false,
     "start_time": "2023-10-12T06:52:02.727912",
     "status": "completed"
    },
    "tags": []
   },
   "outputs": [],
   "source": []
  },
  {
   "cell_type": "code",
   "execution_count": null,
   "id": "04ce61bb",
   "metadata": {
    "papermill": {
     "duration": 0.007126,
     "end_time": "2023-10-12T06:52:02.749891",
     "exception": false,
     "start_time": "2023-10-12T06:52:02.742765",
     "status": "completed"
    },
    "tags": []
   },
   "outputs": [],
   "source": []
  },
  {
   "cell_type": "code",
   "execution_count": null,
   "id": "29a174f1",
   "metadata": {
    "papermill": {
     "duration": 0.007193,
     "end_time": "2023-10-12T06:52:02.764489",
     "exception": false,
     "start_time": "2023-10-12T06:52:02.757296",
     "status": "completed"
    },
    "tags": []
   },
   "outputs": [],
   "source": []
  },
  {
   "cell_type": "code",
   "execution_count": null,
   "id": "fc88452c",
   "metadata": {
    "papermill": {
     "duration": 0.00726,
     "end_time": "2023-10-12T06:52:02.779220",
     "exception": false,
     "start_time": "2023-10-12T06:52:02.771960",
     "status": "completed"
    },
    "tags": []
   },
   "outputs": [],
   "source": []
  },
  {
   "cell_type": "code",
   "execution_count": null,
   "id": "df7be936",
   "metadata": {
    "papermill": {
     "duration": 0.007241,
     "end_time": "2023-10-12T06:52:02.794012",
     "exception": false,
     "start_time": "2023-10-12T06:52:02.786771",
     "status": "completed"
    },
    "tags": []
   },
   "outputs": [],
   "source": []
  },
  {
   "cell_type": "code",
   "execution_count": null,
   "id": "88e03d06",
   "metadata": {
    "papermill": {
     "duration": 0.007338,
     "end_time": "2023-10-12T06:52:02.808827",
     "exception": false,
     "start_time": "2023-10-12T06:52:02.801489",
     "status": "completed"
    },
    "tags": []
   },
   "outputs": [],
   "source": []
  },
  {
   "cell_type": "code",
   "execution_count": null,
   "id": "c57c1de8",
   "metadata": {
    "papermill": {
     "duration": 0.007521,
     "end_time": "2023-10-12T06:52:02.823909",
     "exception": false,
     "start_time": "2023-10-12T06:52:02.816388",
     "status": "completed"
    },
    "tags": []
   },
   "outputs": [],
   "source": []
  },
  {
   "cell_type": "code",
   "execution_count": null,
   "id": "56dbf5e8",
   "metadata": {
    "papermill": {
     "duration": 0.007337,
     "end_time": "2023-10-12T06:52:02.839238",
     "exception": false,
     "start_time": "2023-10-12T06:52:02.831901",
     "status": "completed"
    },
    "tags": []
   },
   "outputs": [],
   "source": []
  }
 ],
 "metadata": {
  "kernelspec": {
   "display_name": "Python 3",
   "language": "python",
   "name": "python3"
  },
  "language_info": {
   "codemirror_mode": {
    "name": "ipython",
    "version": 3
   },
   "file_extension": ".py",
   "mimetype": "text/x-python",
   "name": "python",
   "nbconvert_exporter": "python",
   "pygments_lexer": "ipython3",
   "version": "3.10.12"
  },
  "papermill": {
   "default_parameters": {},
   "duration": 7.403419,
   "end_time": "2023-10-12T06:52:03.670954",
   "environment_variables": {},
   "exception": null,
   "input_path": "__notebook__.ipynb",
   "output_path": "__notebook__.ipynb",
   "parameters": {},
   "start_time": "2023-10-12T06:51:56.267535",
   "version": "2.4.0"
  }
 },
 "nbformat": 4,
 "nbformat_minor": 5
}
