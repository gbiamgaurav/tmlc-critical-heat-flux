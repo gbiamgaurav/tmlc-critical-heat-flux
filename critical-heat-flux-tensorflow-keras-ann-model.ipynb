{
 "cells": [
  {
   "cell_type": "code",
   "execution_count": 1,
   "id": "3b7d9f11",
   "metadata": {
    "_cell_guid": "b1076dfc-b9ad-4769-8c92-a6c4dae69d19",
    "_uuid": "8f2839f25d086af736a60e9eeb907d3b93b6e0e5",
    "execution": {
     "iopub.execute_input": "2023-10-27T12:50:46.941153Z",
     "iopub.status.busy": "2023-10-27T12:50:46.940422Z",
     "iopub.status.idle": "2023-10-27T12:50:47.662358Z",
     "shell.execute_reply": "2023-10-27T12:50:47.661454Z"
    },
    "papermill": {
     "duration": 0.734285,
     "end_time": "2023-10-27T12:50:47.664925",
     "exception": false,
     "start_time": "2023-10-27T12:50:46.930640",
     "status": "completed"
    },
    "tags": []
   },
   "outputs": [
    {
     "name": "stdout",
     "output_type": "stream",
     "text": [
      "/kaggle/input/critical-heat-flux-prediction/Data_CHF_Zhao_2020_ATE.csv\n"
     ]
    }
   ],
   "source": [
    "# This Python 3 environment comes with many helpful analytics libraries installed\n",
    "# It is defined by the kaggle/python Docker image: https://github.com/kaggle/docker-python\n",
    "# For example, here's several helpful packages to load\n",
    "\n",
    "import numpy as np # linear algebra\n",
    "import pandas as pd # data processing, CSV file I/O (e.g. pd.read_csv)\n",
    "\n",
    "# Input data files are available in the read-only \"../input/\" directory\n",
    "# For example, running this (by clicking run or pressing Shift+Enter) will list all files under the input directory\n",
    "\n",
    "import os\n",
    "for dirname, _, filenames in os.walk('/kaggle/input'):\n",
    "    for filename in filenames:\n",
    "        print(os.path.join(dirname, filename))\n",
    "\n",
    "# You can write up to 20GB to the current directory (/kaggle/working/) that gets preserved as output when you create a version using \"Save & Run All\" \n",
    "# You can also write temporary files to /kaggle/temp/, but they won't be saved outside of the current session"
   ]
  },
  {
   "cell_type": "code",
   "execution_count": 2,
   "id": "f203342e",
   "metadata": {
    "execution": {
     "iopub.execute_input": "2023-10-27T12:50:47.682488Z",
     "iopub.status.busy": "2023-10-27T12:50:47.681612Z",
     "iopub.status.idle": "2023-10-27T12:50:56.449006Z",
     "shell.execute_reply": "2023-10-27T12:50:56.448027Z"
    },
    "papermill": {
     "duration": 8.778758,
     "end_time": "2023-10-27T12:50:56.451760",
     "exception": false,
     "start_time": "2023-10-27T12:50:47.673002",
     "status": "completed"
    },
    "tags": []
   },
   "outputs": [
    {
     "name": "stderr",
     "output_type": "stream",
     "text": [
      "/opt/conda/lib/python3.10/site-packages/scipy/__init__.py:146: UserWarning: A NumPy version >=1.16.5 and <1.23.0 is required for this version of SciPy (detected version 1.23.5\n",
      "  warnings.warn(f\"A NumPy version >={np_minversion} and <{np_maxversion}\"\n"
     ]
    }
   ],
   "source": [
    "import tensorflow as tf\n",
    "import pandas as pd\n",
    "import numpy as np\n",
    "from sklearn.model_selection import train_test_split\n",
    "from sklearn.preprocessing import StandardScaler, OneHotEncoder\n",
    "from sklearn.compose import ColumnTransformer\n",
    "from sklearn.pipeline import Pipeline\n",
    "from sklearn.metrics import mean_squared_error, r2_score\n",
    "import joblib"
   ]
  },
  {
   "cell_type": "code",
   "execution_count": 3,
   "id": "f8622877",
   "metadata": {
    "execution": {
     "iopub.execute_input": "2023-10-27T12:50:56.469402Z",
     "iopub.status.busy": "2023-10-27T12:50:56.468490Z",
     "iopub.status.idle": "2023-10-27T12:50:56.494807Z",
     "shell.execute_reply": "2023-10-27T12:50:56.493932Z"
    },
    "papermill": {
     "duration": 0.036974,
     "end_time": "2023-10-27T12:50:56.496819",
     "exception": false,
     "start_time": "2023-10-27T12:50:56.459845",
     "status": "completed"
    },
    "tags": []
   },
   "outputs": [
    {
     "data": {
      "text/plain": [
       "(1865, 10)"
      ]
     },
     "execution_count": 3,
     "metadata": {},
     "output_type": "execute_result"
    }
   ],
   "source": [
    "df = pd.read_csv(\"/kaggle/input/critical-heat-flux-prediction/Data_CHF_Zhao_2020_ATE.csv\")\n",
    "\n",
    "df.shape"
   ]
  },
  {
   "cell_type": "code",
   "execution_count": 4,
   "id": "392b49b5",
   "metadata": {
    "execution": {
     "iopub.execute_input": "2023-10-27T12:50:56.513953Z",
     "iopub.status.busy": "2023-10-27T12:50:56.513604Z",
     "iopub.status.idle": "2023-10-27T12:50:56.535101Z",
     "shell.execute_reply": "2023-10-27T12:50:56.534255Z"
    },
    "papermill": {
     "duration": 0.032284,
     "end_time": "2023-10-27T12:50:56.537221",
     "exception": false,
     "start_time": "2023-10-27T12:50:56.504937",
     "status": "completed"
    },
    "tags": []
   },
   "outputs": [
    {
     "data": {
      "text/html": [
       "<div>\n",
       "<style scoped>\n",
       "    .dataframe tbody tr th:only-of-type {\n",
       "        vertical-align: middle;\n",
       "    }\n",
       "\n",
       "    .dataframe tbody tr th {\n",
       "        vertical-align: top;\n",
       "    }\n",
       "\n",
       "    .dataframe thead th {\n",
       "        text-align: right;\n",
       "    }\n",
       "</style>\n",
       "<table border=\"1\" class=\"dataframe\">\n",
       "  <thead>\n",
       "    <tr style=\"text-align: right;\">\n",
       "      <th></th>\n",
       "      <th>id</th>\n",
       "      <th>author</th>\n",
       "      <th>geometry</th>\n",
       "      <th>pressure [MPa]</th>\n",
       "      <th>mass_flux [kg/m2-s]</th>\n",
       "      <th>x_e_out [-]</th>\n",
       "      <th>D_e [mm]</th>\n",
       "      <th>D_h [mm]</th>\n",
       "      <th>length [mm]</th>\n",
       "      <th>chf_exp [MW/m2]</th>\n",
       "    </tr>\n",
       "  </thead>\n",
       "  <tbody>\n",
       "    <tr>\n",
       "      <th>0</th>\n",
       "      <td>1</td>\n",
       "      <td>Inasaka</td>\n",
       "      <td>tube</td>\n",
       "      <td>0.39</td>\n",
       "      <td>5600</td>\n",
       "      <td>-0.1041</td>\n",
       "      <td>3.0</td>\n",
       "      <td>3.0</td>\n",
       "      <td>100</td>\n",
       "      <td>11.3</td>\n",
       "    </tr>\n",
       "    <tr>\n",
       "      <th>1</th>\n",
       "      <td>2</td>\n",
       "      <td>Inasaka</td>\n",
       "      <td>tube</td>\n",
       "      <td>0.31</td>\n",
       "      <td>6700</td>\n",
       "      <td>-0.0596</td>\n",
       "      <td>3.0</td>\n",
       "      <td>3.0</td>\n",
       "      <td>100</td>\n",
       "      <td>10.6</td>\n",
       "    </tr>\n",
       "    <tr>\n",
       "      <th>2</th>\n",
       "      <td>3</td>\n",
       "      <td>Inasaka</td>\n",
       "      <td>tube</td>\n",
       "      <td>0.33</td>\n",
       "      <td>4300</td>\n",
       "      <td>-0.0395</td>\n",
       "      <td>3.0</td>\n",
       "      <td>3.0</td>\n",
       "      <td>100</td>\n",
       "      <td>7.3</td>\n",
       "    </tr>\n",
       "  </tbody>\n",
       "</table>\n",
       "</div>"
      ],
      "text/plain": [
       "   id   author geometry  pressure [MPa]  mass_flux [kg/m2-s]  x_e_out [-]  \\\n",
       "0   1  Inasaka     tube            0.39                 5600      -0.1041   \n",
       "1   2  Inasaka     tube            0.31                 6700      -0.0596   \n",
       "2   3  Inasaka     tube            0.33                 4300      -0.0395   \n",
       "\n",
       "   D_e [mm]  D_h [mm]  length [mm]  chf_exp [MW/m2]  \n",
       "0       3.0       3.0          100             11.3  \n",
       "1       3.0       3.0          100             10.6  \n",
       "2       3.0       3.0          100              7.3  "
      ]
     },
     "execution_count": 4,
     "metadata": {},
     "output_type": "execute_result"
    }
   ],
   "source": [
    "df.head(3)"
   ]
  },
  {
   "cell_type": "code",
   "execution_count": 5,
   "id": "5916571b",
   "metadata": {
    "execution": {
     "iopub.execute_input": "2023-10-27T12:50:56.554324Z",
     "iopub.status.busy": "2023-10-27T12:50:56.554041Z",
     "iopub.status.idle": "2023-10-27T12:50:56.578774Z",
     "shell.execute_reply": "2023-10-27T12:50:56.577658Z"
    },
    "papermill": {
     "duration": 0.035439,
     "end_time": "2023-10-27T12:50:56.580771",
     "exception": false,
     "start_time": "2023-10-27T12:50:56.545332",
     "status": "completed"
    },
    "tags": []
   },
   "outputs": [
    {
     "name": "stdout",
     "output_type": "stream",
     "text": [
      "<class 'pandas.core.frame.DataFrame'>\n",
      "RangeIndex: 1865 entries, 0 to 1864\n",
      "Data columns (total 10 columns):\n",
      " #   Column               Non-Null Count  Dtype  \n",
      "---  ------               --------------  -----  \n",
      " 0   id                   1865 non-null   int64  \n",
      " 1   author               1865 non-null   object \n",
      " 2   geometry             1865 non-null   object \n",
      " 3   pressure [MPa]       1865 non-null   float64\n",
      " 4   mass_flux [kg/m2-s]  1865 non-null   int64  \n",
      " 5   x_e_out [-]          1865 non-null   float64\n",
      " 6   D_e [mm]             1865 non-null   float64\n",
      " 7   D_h [mm]             1865 non-null   float64\n",
      " 8   length [mm]          1865 non-null   int64  \n",
      " 9   chf_exp [MW/m2]      1865 non-null   float64\n",
      "dtypes: float64(5), int64(3), object(2)\n",
      "memory usage: 145.8+ KB\n"
     ]
    }
   ],
   "source": [
    "df.info()"
   ]
  },
  {
   "cell_type": "code",
   "execution_count": 6,
   "id": "a84d53fe",
   "metadata": {
    "execution": {
     "iopub.execute_input": "2023-10-27T12:50:56.597804Z",
     "iopub.status.busy": "2023-10-27T12:50:56.597504Z",
     "iopub.status.idle": "2023-10-27T12:50:56.604987Z",
     "shell.execute_reply": "2023-10-27T12:50:56.604101Z"
    },
    "papermill": {
     "duration": 0.018085,
     "end_time": "2023-10-27T12:50:56.606857",
     "exception": false,
     "start_time": "2023-10-27T12:50:56.588772",
     "status": "completed"
    },
    "tags": []
   },
   "outputs": [
    {
     "data": {
      "text/plain": [
       "id                     0\n",
       "author                 0\n",
       "geometry               0\n",
       "pressure [MPa]         0\n",
       "mass_flux [kg/m2-s]    0\n",
       "x_e_out [-]            0\n",
       "D_e [mm]               0\n",
       "D_h [mm]               0\n",
       "length [mm]            0\n",
       "chf_exp [MW/m2]        0\n",
       "dtype: int64"
      ]
     },
     "execution_count": 6,
     "metadata": {},
     "output_type": "execute_result"
    }
   ],
   "source": [
    "## check missing values\n",
    "\n",
    "df.isnull().sum()"
   ]
  },
  {
   "cell_type": "markdown",
   "id": "e2f9b8de",
   "metadata": {
    "papermill": {
     "duration": 0.007885,
     "end_time": "2023-10-27T12:50:56.622826",
     "exception": false,
     "start_time": "2023-10-27T12:50:56.614941",
     "status": "completed"
    },
    "tags": []
   },
   "source": [
    "## Preprocessing "
   ]
  },
  {
   "cell_type": "code",
   "execution_count": 7,
   "id": "1616f959",
   "metadata": {
    "execution": {
     "iopub.execute_input": "2023-10-27T12:50:56.641196Z",
     "iopub.status.busy": "2023-10-27T12:50:56.640463Z",
     "iopub.status.idle": "2023-10-27T12:50:56.646764Z",
     "shell.execute_reply": "2023-10-27T12:50:56.645886Z"
    },
    "papermill": {
     "duration": 0.01783,
     "end_time": "2023-10-27T12:50:56.648763",
     "exception": false,
     "start_time": "2023-10-27T12:50:56.630933",
     "status": "completed"
    },
    "tags": []
   },
   "outputs": [],
   "source": [
    "def preprocess_inputs(df):\n",
    "    # Drop \"id\" and \"author\" columns\n",
    "    df = df.drop(columns=[\"id\", \"author\"], axis=1)\n",
    "    \n",
    "    # Remove duplicate records\n",
    "    df = df.drop_duplicates()\n",
    "    \n",
    "    # Rename columns\n",
    "    df = df.rename(columns={\n",
    "        'pressure [MPa]': 'pressure_mp',\n",
    "        'mass_flux [kg/m2-s]': 'mass_flux',\n",
    "        'x_e_out [-]': 'xe_out',\n",
    "        'D_e [mm]': 'de_mm',\n",
    "        'D_h [mm]': 'dh_mm',\n",
    "        'length [mm]': 'length',\n",
    "        'chf_exp [MW/m2]': 'chf_exp'\n",
    "    })\n",
    "    \n",
    "    # Split the dataset into X and y\n",
    "    X = df.drop([\"xe_out\"], axis=1)\n",
    "    y = df[\"xe_out\"]\n",
    "    \n",
    "    return X, y"
   ]
  },
  {
   "cell_type": "code",
   "execution_count": 8,
   "id": "022d5bf8",
   "metadata": {
    "execution": {
     "iopub.execute_input": "2023-10-27T12:50:56.667419Z",
     "iopub.status.busy": "2023-10-27T12:50:56.666616Z",
     "iopub.status.idle": "2023-10-27T12:50:56.682330Z",
     "shell.execute_reply": "2023-10-27T12:50:56.681448Z"
    },
    "papermill": {
     "duration": 0.028253,
     "end_time": "2023-10-27T12:50:56.685469",
     "exception": false,
     "start_time": "2023-10-27T12:50:56.657216",
     "status": "completed"
    },
    "tags": []
   },
   "outputs": [],
   "source": [
    "X, y = preprocess_inputs(df)"
   ]
  },
  {
   "cell_type": "code",
   "execution_count": 9,
   "id": "9194222f",
   "metadata": {
    "execution": {
     "iopub.execute_input": "2023-10-27T12:50:56.705004Z",
     "iopub.status.busy": "2023-10-27T12:50:56.704315Z",
     "iopub.status.idle": "2023-10-27T12:50:56.717532Z",
     "shell.execute_reply": "2023-10-27T12:50:56.716672Z"
    },
    "papermill": {
     "duration": 0.025445,
     "end_time": "2023-10-27T12:50:56.719760",
     "exception": false,
     "start_time": "2023-10-27T12:50:56.694315",
     "status": "completed"
    },
    "tags": []
   },
   "outputs": [
    {
     "data": {
      "text/html": [
       "<div>\n",
       "<style scoped>\n",
       "    .dataframe tbody tr th:only-of-type {\n",
       "        vertical-align: middle;\n",
       "    }\n",
       "\n",
       "    .dataframe tbody tr th {\n",
       "        vertical-align: top;\n",
       "    }\n",
       "\n",
       "    .dataframe thead th {\n",
       "        text-align: right;\n",
       "    }\n",
       "</style>\n",
       "<table border=\"1\" class=\"dataframe\">\n",
       "  <thead>\n",
       "    <tr style=\"text-align: right;\">\n",
       "      <th></th>\n",
       "      <th>geometry</th>\n",
       "      <th>pressure_mp</th>\n",
       "      <th>mass_flux</th>\n",
       "      <th>de_mm</th>\n",
       "      <th>dh_mm</th>\n",
       "      <th>length</th>\n",
       "      <th>chf_exp</th>\n",
       "    </tr>\n",
       "  </thead>\n",
       "  <tbody>\n",
       "    <tr>\n",
       "      <th>0</th>\n",
       "      <td>tube</td>\n",
       "      <td>0.39</td>\n",
       "      <td>5600</td>\n",
       "      <td>3.0</td>\n",
       "      <td>3.0</td>\n",
       "      <td>100</td>\n",
       "      <td>11.3</td>\n",
       "    </tr>\n",
       "    <tr>\n",
       "      <th>1</th>\n",
       "      <td>tube</td>\n",
       "      <td>0.31</td>\n",
       "      <td>6700</td>\n",
       "      <td>3.0</td>\n",
       "      <td>3.0</td>\n",
       "      <td>100</td>\n",
       "      <td>10.6</td>\n",
       "    </tr>\n",
       "    <tr>\n",
       "      <th>2</th>\n",
       "      <td>tube</td>\n",
       "      <td>0.33</td>\n",
       "      <td>4300</td>\n",
       "      <td>3.0</td>\n",
       "      <td>3.0</td>\n",
       "      <td>100</td>\n",
       "      <td>7.3</td>\n",
       "    </tr>\n",
       "  </tbody>\n",
       "</table>\n",
       "</div>"
      ],
      "text/plain": [
       "  geometry  pressure_mp  mass_flux  de_mm  dh_mm  length  chf_exp\n",
       "0     tube         0.39       5600    3.0    3.0     100     11.3\n",
       "1     tube         0.31       6700    3.0    3.0     100     10.6\n",
       "2     tube         0.33       4300    3.0    3.0     100      7.3"
      ]
     },
     "execution_count": 9,
     "metadata": {},
     "output_type": "execute_result"
    }
   ],
   "source": [
    "X.head(3)"
   ]
  },
  {
   "cell_type": "code",
   "execution_count": 10,
   "id": "bae31cb7",
   "metadata": {
    "execution": {
     "iopub.execute_input": "2023-10-27T12:50:56.739268Z",
     "iopub.status.busy": "2023-10-27T12:50:56.738931Z",
     "iopub.status.idle": "2023-10-27T12:50:56.747665Z",
     "shell.execute_reply": "2023-10-27T12:50:56.746719Z"
    },
    "papermill": {
     "duration": 0.020732,
     "end_time": "2023-10-27T12:50:56.749657",
     "exception": false,
     "start_time": "2023-10-27T12:50:56.728925",
     "status": "completed"
    },
    "tags": []
   },
   "outputs": [
    {
     "data": {
      "text/plain": [
       "0      -0.1041\n",
       "1      -0.0596\n",
       "2      -0.0395\n",
       "3      -0.1460\n",
       "4      -0.0849\n",
       "         ...  \n",
       "1860   -0.0218\n",
       "1861   -0.0434\n",
       "1862   -0.0109\n",
       "1863   -0.0218\n",
       "1864   -0.0434\n",
       "Name: xe_out, Length: 1723, dtype: float64"
      ]
     },
     "execution_count": 10,
     "metadata": {},
     "output_type": "execute_result"
    }
   ],
   "source": [
    "y"
   ]
  },
  {
   "cell_type": "code",
   "execution_count": 11,
   "id": "98c6e6b4",
   "metadata": {
    "execution": {
     "iopub.execute_input": "2023-10-27T12:50:56.769088Z",
     "iopub.status.busy": "2023-10-27T12:50:56.768463Z",
     "iopub.status.idle": "2023-10-27T12:50:56.773379Z",
     "shell.execute_reply": "2023-10-27T12:50:56.772523Z"
    },
    "papermill": {
     "duration": 0.016637,
     "end_time": "2023-10-27T12:50:56.775403",
     "exception": false,
     "start_time": "2023-10-27T12:50:56.758766",
     "status": "completed"
    },
    "tags": []
   },
   "outputs": [],
   "source": [
    "# categorical columns and numeric columns\n",
    "\n",
    "categorical_columns = ['geometry']  \n",
    "\n",
    "numeric_columns = [col for col in X.columns if col not in categorical_columns]"
   ]
  },
  {
   "cell_type": "markdown",
   "id": "81605b65",
   "metadata": {
    "papermill": {
     "duration": 0.008668,
     "end_time": "2023-10-27T12:50:56.792902",
     "exception": false,
     "start_time": "2023-10-27T12:50:56.784234",
     "status": "completed"
    },
    "tags": []
   },
   "source": [
    "## Split the data into training and test"
   ]
  },
  {
   "cell_type": "code",
   "execution_count": 12,
   "id": "77194dfe",
   "metadata": {
    "execution": {
     "iopub.execute_input": "2023-10-27T12:50:56.811742Z",
     "iopub.status.busy": "2023-10-27T12:50:56.811371Z",
     "iopub.status.idle": "2023-10-27T12:50:56.818068Z",
     "shell.execute_reply": "2023-10-27T12:50:56.817352Z"
    },
    "papermill": {
     "duration": 0.018307,
     "end_time": "2023-10-27T12:50:56.819989",
     "exception": false,
     "start_time": "2023-10-27T12:50:56.801682",
     "status": "completed"
    },
    "tags": []
   },
   "outputs": [],
   "source": [
    "# Split the data into training and testing sets\n",
    "X_train, X_test, y_train, y_test = train_test_split(X, y, test_size=0.2, random_state=42)"
   ]
  },
  {
   "cell_type": "code",
   "execution_count": 13,
   "id": "a568bc8c",
   "metadata": {
    "execution": {
     "iopub.execute_input": "2023-10-27T12:50:56.838233Z",
     "iopub.status.busy": "2023-10-27T12:50:56.837947Z",
     "iopub.status.idle": "2023-10-27T12:50:56.843553Z",
     "shell.execute_reply": "2023-10-27T12:50:56.842757Z"
    },
    "papermill": {
     "duration": 0.016848,
     "end_time": "2023-10-27T12:50:56.845343",
     "exception": false,
     "start_time": "2023-10-27T12:50:56.828495",
     "status": "completed"
    },
    "tags": []
   },
   "outputs": [
    {
     "data": {
      "text/plain": [
       "(1378, 7)"
      ]
     },
     "execution_count": 13,
     "metadata": {},
     "output_type": "execute_result"
    }
   ],
   "source": [
    "X_train.shape"
   ]
  },
  {
   "cell_type": "markdown",
   "id": "c187b591",
   "metadata": {
    "papermill": {
     "duration": 0.008361,
     "end_time": "2023-10-27T12:50:56.862219",
     "exception": false,
     "start_time": "2023-10-27T12:50:56.853858",
     "status": "completed"
    },
    "tags": []
   },
   "source": [
    "## Define Pipeline"
   ]
  },
  {
   "cell_type": "code",
   "execution_count": 14,
   "id": "8f9d9291",
   "metadata": {
    "execution": {
     "iopub.execute_input": "2023-10-27T12:50:56.880367Z",
     "iopub.status.busy": "2023-10-27T12:50:56.880083Z",
     "iopub.status.idle": "2023-10-27T12:50:56.900370Z",
     "shell.execute_reply": "2023-10-27T12:50:56.899580Z"
    },
    "papermill": {
     "duration": 0.031522,
     "end_time": "2023-10-27T12:50:56.902213",
     "exception": false,
     "start_time": "2023-10-27T12:50:56.870691",
     "status": "completed"
    },
    "tags": []
   },
   "outputs": [],
   "source": [
    "# Define transformers for numeric and categorical features\n",
    "numeric_transformer = Pipeline(steps=[\n",
    "    ('scaler', StandardScaler())  \n",
    "])\n",
    "\n",
    "categorical_transformer = Pipeline(steps=[\n",
    "    ('onehot', OneHotEncoder())  \n",
    "])\n",
    "\n",
    "# Create a column transformer\n",
    "preprocessor = ColumnTransformer(\n",
    "    transformers=[\n",
    "        ('num', numeric_transformer, numeric_columns),\n",
    "        ('cat', categorical_transformer, categorical_columns)\n",
    "    ])\n",
    "\n",
    "# Fit and transform the preprocessor on the training data\n",
    "X_train_transformed = preprocessor.fit_transform(X_train)\n",
    "\n",
    "# Transform the testing data\n",
    "X_test_transformed = preprocessor.transform(X_test)"
   ]
  },
  {
   "cell_type": "markdown",
   "id": "cca7947a",
   "metadata": {
    "papermill": {
     "duration": 0.008272,
     "end_time": "2023-10-27T12:50:56.919205",
     "exception": false,
     "start_time": "2023-10-27T12:50:56.910933",
     "status": "completed"
    },
    "tags": []
   },
   "source": [
    "## Build the ANN Model using Keras"
   ]
  },
  {
   "cell_type": "code",
   "execution_count": 15,
   "id": "f0e71798",
   "metadata": {
    "execution": {
     "iopub.execute_input": "2023-10-27T12:50:56.937297Z",
     "iopub.status.busy": "2023-10-27T12:50:56.937022Z",
     "iopub.status.idle": "2023-10-27T12:51:00.234632Z",
     "shell.execute_reply": "2023-10-27T12:51:00.233629Z"
    },
    "papermill": {
     "duration": 3.312184,
     "end_time": "2023-10-27T12:51:00.239868",
     "exception": false,
     "start_time": "2023-10-27T12:50:56.927684",
     "status": "completed"
    },
    "tags": []
   },
   "outputs": [
    {
     "name": "stdout",
     "output_type": "stream",
     "text": [
      "Model: \"sequential\"\n",
      "_________________________________________________________________\n",
      " Layer (type)                Output Shape              Param #   \n",
      "=================================================================\n",
      " dense (Dense)               (None, 100)               1000      \n",
      "                                                                 \n",
      " dense_1 (Dense)             (None, 50)                5050      \n",
      "                                                                 \n",
      " dense_2 (Dense)             (None, 1)                 51        \n",
      "                                                                 \n",
      "=================================================================\n",
      "Total params: 6,101\n",
      "Trainable params: 6,101\n",
      "Non-trainable params: 0\n",
      "_________________________________________________________________\n"
     ]
    }
   ],
   "source": [
    "model = tf.keras.Sequential([\n",
    "    tf.keras.layers.Input(shape=(X_train_transformed.shape[1],)),  \n",
    "    tf.keras.layers.Dense(100, activation='relu'),    \n",
    "    tf.keras.layers.Dense(50, activation='relu'),     \n",
    "    tf.keras.layers.Dense(1) # Output layer \n",
    "])\n",
    "\n",
    "model.summary()"
   ]
  },
  {
   "cell_type": "markdown",
   "id": "9acd755c",
   "metadata": {
    "papermill": {
     "duration": 0.009678,
     "end_time": "2023-10-27T12:51:00.259363",
     "exception": false,
     "start_time": "2023-10-27T12:51:00.249685",
     "status": "completed"
    },
    "tags": []
   },
   "source": [
    "## Compile the Model"
   ]
  },
  {
   "cell_type": "code",
   "execution_count": 16,
   "id": "b5a217f8",
   "metadata": {
    "execution": {
     "iopub.execute_input": "2023-10-27T12:51:00.281343Z",
     "iopub.status.busy": "2023-10-27T12:51:00.280465Z",
     "iopub.status.idle": "2023-10-27T12:51:00.297914Z",
     "shell.execute_reply": "2023-10-27T12:51:00.297140Z"
    },
    "papermill": {
     "duration": 0.030777,
     "end_time": "2023-10-27T12:51:00.300074",
     "exception": false,
     "start_time": "2023-10-27T12:51:00.269297",
     "status": "completed"
    },
    "tags": []
   },
   "outputs": [],
   "source": [
    "model.compile(optimizer='adam', loss='mean_squared_error')"
   ]
  },
  {
   "cell_type": "markdown",
   "id": "6f7bc86b",
   "metadata": {
    "papermill": {
     "duration": 0.009735,
     "end_time": "2023-10-27T12:51:00.320200",
     "exception": false,
     "start_time": "2023-10-27T12:51:00.310465",
     "status": "completed"
    },
    "tags": []
   },
   "source": [
    "## Fit the Model"
   ]
  },
  {
   "cell_type": "code",
   "execution_count": 17,
   "id": "6394768e",
   "metadata": {
    "execution": {
     "iopub.execute_input": "2023-10-27T12:51:00.341489Z",
     "iopub.status.busy": "2023-10-27T12:51:00.341100Z",
     "iopub.status.idle": "2023-10-27T12:51:10.922950Z",
     "shell.execute_reply": "2023-10-27T12:51:10.921657Z"
    },
    "papermill": {
     "duration": 10.595258,
     "end_time": "2023-10-27T12:51:10.925354",
     "exception": false,
     "start_time": "2023-10-27T12:51:00.330096",
     "status": "completed"
    },
    "tags": []
   },
   "outputs": [
    {
     "name": "stdout",
     "output_type": "stream",
     "text": [
      "Epoch 1/50\n",
      "44/44 [==============================] - 4s 3ms/step - loss: 0.0178\n",
      "Epoch 2/50\n",
      "44/44 [==============================] - 0s 3ms/step - loss: 0.0037\n",
      "Epoch 3/50\n",
      "44/44 [==============================] - 0s 3ms/step - loss: 0.0026\n",
      "Epoch 4/50\n",
      "44/44 [==============================] - 0s 3ms/step - loss: 0.0022\n",
      "Epoch 5/50\n",
      "44/44 [==============================] - 0s 3ms/step - loss: 0.0025\n",
      "Epoch 6/50\n",
      "44/44 [==============================] - 0s 3ms/step - loss: 0.0020\n",
      "Epoch 7/50\n",
      "44/44 [==============================] - 0s 3ms/step - loss: 0.0019\n",
      "Epoch 8/50\n",
      "44/44 [==============================] - 0s 3ms/step - loss: 0.0017\n",
      "Epoch 9/50\n",
      "44/44 [==============================] - 0s 3ms/step - loss: 0.0016\n",
      "Epoch 10/50\n",
      "44/44 [==============================] - 0s 3ms/step - loss: 0.0018\n",
      "Epoch 11/50\n",
      "44/44 [==============================] - 0s 3ms/step - loss: 0.0019\n",
      "Epoch 12/50\n",
      "44/44 [==============================] - 0s 3ms/step - loss: 0.0016\n",
      "Epoch 13/50\n",
      "44/44 [==============================] - 0s 3ms/step - loss: 0.0017\n",
      "Epoch 14/50\n",
      "44/44 [==============================] - 0s 3ms/step - loss: 0.0016\n",
      "Epoch 15/50\n",
      "44/44 [==============================] - 0s 3ms/step - loss: 0.0014\n",
      "Epoch 16/50\n",
      "44/44 [==============================] - 0s 3ms/step - loss: 0.0015\n",
      "Epoch 17/50\n",
      "44/44 [==============================] - 0s 3ms/step - loss: 0.0015\n",
      "Epoch 18/50\n",
      "44/44 [==============================] - 0s 3ms/step - loss: 0.0015\n",
      "Epoch 19/50\n",
      "44/44 [==============================] - 0s 3ms/step - loss: 0.0013\n",
      "Epoch 20/50\n",
      "44/44 [==============================] - 0s 3ms/step - loss: 0.0014\n",
      "Epoch 21/50\n",
      "44/44 [==============================] - 0s 3ms/step - loss: 0.0013\n",
      "Epoch 22/50\n",
      "44/44 [==============================] - 0s 3ms/step - loss: 0.0015\n",
      "Epoch 23/50\n",
      "44/44 [==============================] - 0s 3ms/step - loss: 0.0014\n",
      "Epoch 24/50\n",
      "44/44 [==============================] - 0s 3ms/step - loss: 0.0012\n",
      "Epoch 25/50\n",
      "44/44 [==============================] - 0s 3ms/step - loss: 0.0012\n",
      "Epoch 26/50\n",
      "44/44 [==============================] - 0s 3ms/step - loss: 0.0013\n",
      "Epoch 27/50\n",
      "44/44 [==============================] - 0s 3ms/step - loss: 0.0011\n",
      "Epoch 28/50\n",
      "44/44 [==============================] - 0s 3ms/step - loss: 0.0013\n",
      "Epoch 29/50\n",
      "44/44 [==============================] - 0s 3ms/step - loss: 0.0012\n",
      "Epoch 30/50\n",
      "44/44 [==============================] - 0s 3ms/step - loss: 0.0013\n",
      "Epoch 31/50\n",
      "44/44 [==============================] - 0s 3ms/step - loss: 0.0015\n",
      "Epoch 32/50\n",
      "44/44 [==============================] - 0s 3ms/step - loss: 0.0011\n",
      "Epoch 33/50\n",
      "44/44 [==============================] - 0s 3ms/step - loss: 0.0011\n",
      "Epoch 34/50\n",
      "44/44 [==============================] - 0s 3ms/step - loss: 0.0011\n",
      "Epoch 35/50\n",
      "44/44 [==============================] - 0s 3ms/step - loss: 0.0012\n",
      "Epoch 36/50\n",
      "44/44 [==============================] - 0s 3ms/step - loss: 0.0012\n",
      "Epoch 37/50\n",
      "44/44 [==============================] - 0s 3ms/step - loss: 0.0013\n",
      "Epoch 38/50\n",
      "44/44 [==============================] - 0s 3ms/step - loss: 0.0011\n",
      "Epoch 39/50\n",
      "44/44 [==============================] - 0s 3ms/step - loss: 0.0012\n",
      "Epoch 40/50\n",
      "44/44 [==============================] - 0s 3ms/step - loss: 0.0011\n",
      "Epoch 41/50\n",
      "44/44 [==============================] - 0s 3ms/step - loss: 0.0015\n",
      "Epoch 42/50\n",
      "44/44 [==============================] - 0s 3ms/step - loss: 0.0015\n",
      "Epoch 43/50\n",
      "44/44 [==============================] - 0s 3ms/step - loss: 0.0011\n",
      "Epoch 44/50\n",
      "44/44 [==============================] - 0s 3ms/step - loss: 0.0013\n",
      "Epoch 45/50\n",
      "44/44 [==============================] - 0s 3ms/step - loss: 0.0016\n",
      "Epoch 46/50\n",
      "44/44 [==============================] - 0s 3ms/step - loss: 0.0014\n",
      "Epoch 47/50\n",
      "44/44 [==============================] - 0s 3ms/step - loss: 0.0012\n",
      "Epoch 48/50\n",
      "44/44 [==============================] - 0s 3ms/step - loss: 0.0011\n",
      "Epoch 49/50\n",
      "44/44 [==============================] - 0s 3ms/step - loss: 0.0012\n",
      "Epoch 50/50\n",
      "44/44 [==============================] - 0s 4ms/step - loss: 0.0015\n"
     ]
    },
    {
     "data": {
      "text/plain": [
       "<keras.callbacks.History at 0x78e52dc1bf40>"
      ]
     },
     "execution_count": 17,
     "metadata": {},
     "output_type": "execute_result"
    }
   ],
   "source": [
    "model.fit(X_train_transformed, y_train, epochs=50, batch_size=32)"
   ]
  },
  {
   "cell_type": "markdown",
   "id": "80fcf9d1",
   "metadata": {
    "papermill": {
     "duration": 0.030803,
     "end_time": "2023-10-27T12:51:10.988405",
     "exception": false,
     "start_time": "2023-10-27T12:51:10.957602",
     "status": "completed"
    },
    "tags": []
   },
   "source": [
    "## Model Evaluation"
   ]
  },
  {
   "cell_type": "code",
   "execution_count": 18,
   "id": "8bebb5fa",
   "metadata": {
    "execution": {
     "iopub.execute_input": "2023-10-27T12:51:11.109477Z",
     "iopub.status.busy": "2023-10-27T12:51:11.108575Z",
     "iopub.status.idle": "2023-10-27T12:51:11.297542Z",
     "shell.execute_reply": "2023-10-27T12:51:11.296479Z"
    },
    "papermill": {
     "duration": 0.281034,
     "end_time": "2023-10-27T12:51:11.300030",
     "exception": false,
     "start_time": "2023-10-27T12:51:11.018996",
     "status": "completed"
    },
    "tags": []
   },
   "outputs": [
    {
     "name": "stdout",
     "output_type": "stream",
     "text": [
      "11/11 [==============================] - 0s 2ms/step\n"
     ]
    }
   ],
   "source": [
    "y_pred = model.predict(X_test_transformed)\n",
    "rmse = np.sqrt(mean_squared_error(y_test, y_pred))\n",
    "r2 = r2_score(y_test, y_pred)"
   ]
  },
  {
   "cell_type": "code",
   "execution_count": 19,
   "id": "f8ae6c44",
   "metadata": {
    "execution": {
     "iopub.execute_input": "2023-10-27T12:51:11.362740Z",
     "iopub.status.busy": "2023-10-27T12:51:11.362338Z",
     "iopub.status.idle": "2023-10-27T12:51:11.368125Z",
     "shell.execute_reply": "2023-10-27T12:51:11.367223Z"
    },
    "papermill": {
     "duration": 0.039453,
     "end_time": "2023-10-27T12:51:11.370245",
     "exception": false,
     "start_time": "2023-10-27T12:51:11.330792",
     "status": "completed"
    },
    "tags": []
   },
   "outputs": [
    {
     "name": "stdout",
     "output_type": "stream",
     "text": [
      "Root Mean Squared Error: 0.04686166811249565\n",
      "R-squared (R2) Score: 0.8597119574940745\n"
     ]
    }
   ],
   "source": [
    "print(f\"Root Mean Squared Error: {rmse}\")\n",
    "print(f\"R-squared (R2) Score: {r2}\")"
   ]
  },
  {
   "cell_type": "markdown",
   "id": "b261861e",
   "metadata": {
    "papermill": {
     "duration": 0.030002,
     "end_time": "2023-10-27T12:51:11.430217",
     "exception": false,
     "start_time": "2023-10-27T12:51:11.400215",
     "status": "completed"
    },
    "tags": []
   },
   "source": [
    "## Save the Model"
   ]
  },
  {
   "cell_type": "code",
   "execution_count": 20,
   "id": "178a9f00",
   "metadata": {
    "execution": {
     "iopub.execute_input": "2023-10-27T12:51:11.493330Z",
     "iopub.status.busy": "2023-10-27T12:51:11.492938Z",
     "iopub.status.idle": "2023-10-27T12:51:12.539779Z",
     "shell.execute_reply": "2023-10-27T12:51:12.538862Z"
    },
    "papermill": {
     "duration": 1.081152,
     "end_time": "2023-10-27T12:51:12.541897",
     "exception": false,
     "start_time": "2023-10-27T12:51:11.460745",
     "status": "completed"
    },
    "tags": []
   },
   "outputs": [
    {
     "data": {
      "text/plain": [
       "['preprocessor.pkl']"
      ]
     },
     "execution_count": 20,
     "metadata": {},
     "output_type": "execute_result"
    }
   ],
   "source": [
    "# Save the trained model using TensorFlow's SavedModel format\n",
    "model.save('ANN_model')\n",
    "\n",
    "# Save the preprocessor using joblib (for later preprocessing of new data)\n",
    "joblib.dump(preprocessor, 'preprocessor.pkl')"
   ]
  },
  {
   "cell_type": "markdown",
   "id": "4e7c50c4",
   "metadata": {
    "papermill": {
     "duration": 0.029593,
     "end_time": "2023-10-27T12:51:12.601532",
     "exception": false,
     "start_time": "2023-10-27T12:51:12.571939",
     "status": "completed"
    },
    "tags": []
   },
   "source": [
    "## Load the Model"
   ]
  },
  {
   "cell_type": "code",
   "execution_count": 21,
   "id": "4880597a",
   "metadata": {
    "execution": {
     "iopub.execute_input": "2023-10-27T12:51:12.662351Z",
     "iopub.status.busy": "2023-10-27T12:51:12.661970Z",
     "iopub.status.idle": "2023-10-27T12:51:12.945925Z",
     "shell.execute_reply": "2023-10-27T12:51:12.944910Z"
    },
    "papermill": {
     "duration": 0.316834,
     "end_time": "2023-10-27T12:51:12.947942",
     "exception": false,
     "start_time": "2023-10-27T12:51:12.631108",
     "status": "completed"
    },
    "tags": []
   },
   "outputs": [
    {
     "data": {
      "text/plain": [
       "<keras.engine.sequential.Sequential at 0x78e52c1a7940>"
      ]
     },
     "execution_count": 21,
     "metadata": {},
     "output_type": "execute_result"
    }
   ],
   "source": [
    "import joblib\n",
    "import numpy as np\n",
    "import tensorflow as tf\n",
    "\n",
    "# Load the preprocessor\n",
    "preprocessor = joblib.load('preprocessor.pkl')\n",
    "\n",
    "# Load the trained model\n",
    "model = tf.keras.models.load_model('ANN_model')\n",
    "\n",
    "model"
   ]
  },
  {
   "cell_type": "code",
   "execution_count": null,
   "id": "1c17873f",
   "metadata": {
    "papermill": {
     "duration": 0.029047,
     "end_time": "2023-10-27T12:51:13.006123",
     "exception": false,
     "start_time": "2023-10-27T12:51:12.977076",
     "status": "completed"
    },
    "tags": []
   },
   "outputs": [],
   "source": []
  }
 ],
 "metadata": {
  "kernelspec": {
   "display_name": "Python 3",
   "language": "python",
   "name": "python3"
  },
  "language_info": {
   "codemirror_mode": {
    "name": "ipython",
    "version": 3
   },
   "file_extension": ".py",
   "mimetype": "text/x-python",
   "name": "python",
   "nbconvert_exporter": "python",
   "pygments_lexer": "ipython3",
   "version": "3.10.12"
  },
  "papermill": {
   "default_parameters": {},
   "duration": 32.608124,
   "end_time": "2023-10-27T12:51:16.105161",
   "environment_variables": {},
   "exception": null,
   "input_path": "__notebook__.ipynb",
   "output_path": "__notebook__.ipynb",
   "parameters": {},
   "start_time": "2023-10-27T12:50:43.497037",
   "version": "2.4.0"
  }
 },
 "nbformat": 4,
 "nbformat_minor": 5
}
